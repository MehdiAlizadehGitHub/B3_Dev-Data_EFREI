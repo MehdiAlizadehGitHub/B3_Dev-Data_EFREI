{
 "cells": [
  {
   "cell_type": "markdown",
   "metadata": {},
   "source": [
    "# Evaluation terminale : Machine learning & python -- Nom Prénom"
   ]
  },
  {
   "cell_type": "markdown",
   "metadata": {},
   "source": [
    "Cet examen se compose de 3 parties : \n",
    "<ol>\n",
    "  <li>Restitution théorique</li>\n",
    "  <li>Restitution pratique</li>\n",
    "  <li>Cas pratique</li>\n",
    "</ol>"
   ]
  },
  {
   "cell_type": "markdown",
   "metadata": {},
   "source": [
    "## Partie 1 : Restitution théorique"
   ]
  },
  {
   "cell_type": "markdown",
   "metadata": {},
   "source": [
    "Pour cette partie, l'objectif est de décrire des notions théoriques. Essayez de rédiger des réponses claires en utilisant vos mots."
   ]
  },
  {
   "cell_type": "markdown",
   "metadata": {},
   "source": [
    "#### Question 1.1: Donner une définition du machine learning. Eviter de recopier de wikipédia, essayer d'en donner une description en quelques mots."
   ]
  },
  {
   "attachments": {},
   "cell_type": "markdown",
   "metadata": {},
   "source": [
    "Le Machine Learning est un domaine scientifique, plus particulièrement une sous-catégorie de l'intelligence artificielle. Elle consiste à laisser des algorithmes découvrir des  patterns , à savoir des motifs récurrents, dans les ensembles de données."
   ]
  },
  {
   "cell_type": "markdown",
   "metadata": {},
   "source": [
    "#### Question 1.2: Donner quelques applications concrètes d'utilisation du machine learning."
   ]
  },
  {
   "attachments": {},
   "cell_type": "markdown",
   "metadata": {},
   "source": [
    "Sur des documents,\n",
    "classifications de documents,\n",
    "images,\n",
    "captcha,\n",
    "audio,\n"
   ]
  },
  {
   "cell_type": "markdown",
   "metadata": {},
   "source": [
    "#### Question 1.3: Quelles sont les 2 principales familles \"d'apprentissage\"? Donner une rapide définition de chacune"
   ]
  },
  {
   "attachments": {},
   "cell_type": "markdown",
   "metadata": {},
   "source": [
    "Apprentissage supervisé : prédire de manière précise la sortie y pour un nouvel exemple x non vu \n",
    "Apprentissage non supervisé : trouver des groupes d'objets semblables "
   ]
  },
  {
   "cell_type": "markdown",
   "metadata": {},
   "source": [
    "#### Question 1.4: Dans laquelle de ces familles appartient la \"classification\"? Le \"clustering\"?"
   ]
  },
  {
   "attachments": {},
   "cell_type": "markdown",
   "metadata": {},
   "source": [
    "Classification : Apprentissage supervisé\n",
    "Clustering : Apprentissage non supervisé"
   ]
  },
  {
   "cell_type": "markdown",
   "metadata": {},
   "source": [
    "#### Question 1.5: Définissez ce qu'est un arbre de décision et décrivez  de manière simple sa construction."
   ]
  },
  {
   "attachments": {},
   "cell_type": "markdown",
   "metadata": {},
   "source": [
    "Un arbre de décision est un outil d'aide à la décision représentant un ensemble de choix sous la forme graphique d'un arbre. Un arbre de décision demande une combinaison de variable, pour mieux appréhender une prise de décision. Il doit comprendre les différentes éventualités possibles, à chaque décision à prendre"
   ]
  },
  {
   "cell_type": "markdown",
   "metadata": {},
   "source": [
    "#### Question 1.6: Dans quelle situation parle-t-on \"d'overfitting\"?"
   ]
  },
  {
   "attachments": {},
   "cell_type": "markdown",
   "metadata": {},
   "source": [
    "L’overfitting intervient lorsque l’algorithme sur-apprend, lorsqu’il apprend à partir des données mais aussi à partir de patterns qui ne sont pas liés au problème, comme du bruit."
   ]
  },
  {
   "cell_type": "markdown",
   "metadata": {},
   "source": [
    "## Partie 2 : Etude d'un cas pratique"
   ]
  },
  {
   "cell_type": "markdown",
   "metadata": {},
   "source": [
    "Pour cette partie, vous devrez vous inspirer des TP réalisés en cours. \n",
    "\n",
    "Il vous faut importer les librairies qui vous seront nécessaires répondre à la problèmatique dans la cellule suivante :"
   ]
  },
  {
   "cell_type": "code",
   "execution_count": 12,
   "metadata": {},
   "outputs": [],
   "source": [
    "# packages\n",
    "import pandas as pd\n",
    "from pandas_profiling import ProfileReport\n",
    "from sklearn.model_selection import train_test_split, GridSearchCV\n",
    "from sklearn.tree import DecisionTreeClassifier, plot_tree\n",
    "from sklearn.ensemble import RandomForestClassifier\n",
    "from sklearn.neural_network import MLPClassifier\n",
    "from sklearn.preprocessing import StandardScaler\n",
    "from sklearn import metrics\n",
    "import matplotlib.pyplot as plt\n"
   ]
  },
  {
   "cell_type": "markdown",
   "metadata": {},
   "source": [
    "Importez les données comme suit :"
   ]
  },
  {
   "cell_type": "code",
   "execution_count": 3,
   "metadata": {},
   "outputs": [],
   "source": [
    "data = pd.read_csv('nba_logreg.csv')"
   ]
  },
  {
   "cell_type": "markdown",
   "metadata": {},
   "source": [
    "Ce jeu de données décrit les caracteristiques de jeu de joueurs de Basketball au sein de la NBA. La variable d'intérêt Y est \"TARGET_5yrs\". La description de ce dataset se trouve dans le fichier \"NBA_variables_doc.png\"\n",
    "\n",
    "__L'objectif du problème est de réussir à prédire si un jeune joueur durera plus ou moins que 5ans au sein de la ligue.__"
   ]
  },
  {
   "cell_type": "code",
   "execution_count": 15,
   "metadata": {},
   "outputs": [
    {
     "data": {
      "text/html": [
       "<div>\n",
       "<style scoped>\n",
       "    .dataframe tbody tr th:only-of-type {\n",
       "        vertical-align: middle;\n",
       "    }\n",
       "\n",
       "    .dataframe tbody tr th {\n",
       "        vertical-align: top;\n",
       "    }\n",
       "\n",
       "    .dataframe thead th {\n",
       "        text-align: right;\n",
       "    }\n",
       "</style>\n",
       "<table border=\"1\" class=\"dataframe\">\n",
       "  <thead>\n",
       "    <tr style=\"text-align: right;\">\n",
       "      <th></th>\n",
       "      <th>Name</th>\n",
       "      <th>GP</th>\n",
       "      <th>MIN</th>\n",
       "      <th>PTS</th>\n",
       "      <th>FGM</th>\n",
       "      <th>FGA</th>\n",
       "      <th>FG%</th>\n",
       "      <th>3P Made</th>\n",
       "      <th>3PA</th>\n",
       "      <th>3P%</th>\n",
       "      <th>...</th>\n",
       "      <th>FTA</th>\n",
       "      <th>FT%</th>\n",
       "      <th>OREB</th>\n",
       "      <th>DREB</th>\n",
       "      <th>REB</th>\n",
       "      <th>AST</th>\n",
       "      <th>STL</th>\n",
       "      <th>BLK</th>\n",
       "      <th>TOV</th>\n",
       "      <th>TARGET_5Yrs</th>\n",
       "    </tr>\n",
       "  </thead>\n",
       "  <tbody>\n",
       "    <tr>\n",
       "      <th>0</th>\n",
       "      <td>Brandon Ingram</td>\n",
       "      <td>36</td>\n",
       "      <td>27.4</td>\n",
       "      <td>7.4</td>\n",
       "      <td>2.6</td>\n",
       "      <td>7.6</td>\n",
       "      <td>34.7</td>\n",
       "      <td>0.5</td>\n",
       "      <td>2.1</td>\n",
       "      <td>25.0</td>\n",
       "      <td>...</td>\n",
       "      <td>2.3</td>\n",
       "      <td>69.9</td>\n",
       "      <td>0.7</td>\n",
       "      <td>3.4</td>\n",
       "      <td>4.1</td>\n",
       "      <td>1.9</td>\n",
       "      <td>0.4</td>\n",
       "      <td>0.4</td>\n",
       "      <td>1.3</td>\n",
       "      <td>0.0</td>\n",
       "    </tr>\n",
       "    <tr>\n",
       "      <th>1</th>\n",
       "      <td>Andrew Harrison</td>\n",
       "      <td>35</td>\n",
       "      <td>26.9</td>\n",
       "      <td>7.2</td>\n",
       "      <td>2.0</td>\n",
       "      <td>6.7</td>\n",
       "      <td>29.6</td>\n",
       "      <td>0.7</td>\n",
       "      <td>2.8</td>\n",
       "      <td>23.5</td>\n",
       "      <td>...</td>\n",
       "      <td>3.4</td>\n",
       "      <td>76.5</td>\n",
       "      <td>0.5</td>\n",
       "      <td>2.0</td>\n",
       "      <td>2.4</td>\n",
       "      <td>3.7</td>\n",
       "      <td>1.1</td>\n",
       "      <td>0.5</td>\n",
       "      <td>1.6</td>\n",
       "      <td>0.0</td>\n",
       "    </tr>\n",
       "    <tr>\n",
       "      <th>2</th>\n",
       "      <td>JaKarr Sampson</td>\n",
       "      <td>74</td>\n",
       "      <td>15.3</td>\n",
       "      <td>5.2</td>\n",
       "      <td>2.0</td>\n",
       "      <td>4.7</td>\n",
       "      <td>42.2</td>\n",
       "      <td>0.4</td>\n",
       "      <td>1.7</td>\n",
       "      <td>24.4</td>\n",
       "      <td>...</td>\n",
       "      <td>1.3</td>\n",
       "      <td>67.0</td>\n",
       "      <td>0.5</td>\n",
       "      <td>1.7</td>\n",
       "      <td>2.2</td>\n",
       "      <td>1.0</td>\n",
       "      <td>0.5</td>\n",
       "      <td>0.3</td>\n",
       "      <td>1.0</td>\n",
       "      <td>0.0</td>\n",
       "    </tr>\n",
       "    <tr>\n",
       "      <th>3</th>\n",
       "      <td>Malik Sealy</td>\n",
       "      <td>58</td>\n",
       "      <td>11.6</td>\n",
       "      <td>5.7</td>\n",
       "      <td>2.3</td>\n",
       "      <td>5.5</td>\n",
       "      <td>42.6</td>\n",
       "      <td>0.1</td>\n",
       "      <td>0.5</td>\n",
       "      <td>22.6</td>\n",
       "      <td>...</td>\n",
       "      <td>1.3</td>\n",
       "      <td>68.9</td>\n",
       "      <td>1.0</td>\n",
       "      <td>0.9</td>\n",
       "      <td>1.9</td>\n",
       "      <td>0.8</td>\n",
       "      <td>0.6</td>\n",
       "      <td>0.1</td>\n",
       "      <td>1.0</td>\n",
       "      <td>1.0</td>\n",
       "    </tr>\n",
       "    <tr>\n",
       "      <th>4</th>\n",
       "      <td>Matt Geiger</td>\n",
       "      <td>48</td>\n",
       "      <td>11.5</td>\n",
       "      <td>4.5</td>\n",
       "      <td>1.6</td>\n",
       "      <td>3.0</td>\n",
       "      <td>52.4</td>\n",
       "      <td>0.0</td>\n",
       "      <td>0.1</td>\n",
       "      <td>0.0</td>\n",
       "      <td>...</td>\n",
       "      <td>1.9</td>\n",
       "      <td>67.4</td>\n",
       "      <td>1.0</td>\n",
       "      <td>1.5</td>\n",
       "      <td>2.5</td>\n",
       "      <td>0.3</td>\n",
       "      <td>0.3</td>\n",
       "      <td>0.4</td>\n",
       "      <td>0.8</td>\n",
       "      <td>1.0</td>\n",
       "    </tr>\n",
       "    <tr>\n",
       "      <th>...</th>\n",
       "      <td>...</td>\n",
       "      <td>...</td>\n",
       "      <td>...</td>\n",
       "      <td>...</td>\n",
       "      <td>...</td>\n",
       "      <td>...</td>\n",
       "      <td>...</td>\n",
       "      <td>...</td>\n",
       "      <td>...</td>\n",
       "      <td>...</td>\n",
       "      <td>...</td>\n",
       "      <td>...</td>\n",
       "      <td>...</td>\n",
       "      <td>...</td>\n",
       "      <td>...</td>\n",
       "      <td>...</td>\n",
       "      <td>...</td>\n",
       "      <td>...</td>\n",
       "      <td>...</td>\n",
       "      <td>...</td>\n",
       "      <td>...</td>\n",
       "    </tr>\n",
       "    <tr>\n",
       "      <th>1335</th>\n",
       "      <td>Chris Smith</td>\n",
       "      <td>80</td>\n",
       "      <td>15.8</td>\n",
       "      <td>4.3</td>\n",
       "      <td>1.6</td>\n",
       "      <td>3.6</td>\n",
       "      <td>43.3</td>\n",
       "      <td>0.0</td>\n",
       "      <td>0.2</td>\n",
       "      <td>14.3</td>\n",
       "      <td>...</td>\n",
       "      <td>1.5</td>\n",
       "      <td>79.2</td>\n",
       "      <td>0.4</td>\n",
       "      <td>0.8</td>\n",
       "      <td>1.2</td>\n",
       "      <td>2.5</td>\n",
       "      <td>0.6</td>\n",
       "      <td>0.2</td>\n",
       "      <td>0.8</td>\n",
       "      <td>0.0</td>\n",
       "    </tr>\n",
       "    <tr>\n",
       "      <th>1336</th>\n",
       "      <td>Brent Price</td>\n",
       "      <td>68</td>\n",
       "      <td>12.6</td>\n",
       "      <td>3.9</td>\n",
       "      <td>1.5</td>\n",
       "      <td>4.1</td>\n",
       "      <td>35.8</td>\n",
       "      <td>0.1</td>\n",
       "      <td>0.7</td>\n",
       "      <td>16.7</td>\n",
       "      <td>...</td>\n",
       "      <td>1.0</td>\n",
       "      <td>79.4</td>\n",
       "      <td>0.4</td>\n",
       "      <td>1.1</td>\n",
       "      <td>1.5</td>\n",
       "      <td>2.3</td>\n",
       "      <td>0.8</td>\n",
       "      <td>0.0</td>\n",
       "      <td>1.3</td>\n",
       "      <td>1.0</td>\n",
       "    </tr>\n",
       "    <tr>\n",
       "      <th>1337</th>\n",
       "      <td>Marlon Maxey</td>\n",
       "      <td>43</td>\n",
       "      <td>12.1</td>\n",
       "      <td>5.4</td>\n",
       "      <td>2.2</td>\n",
       "      <td>3.9</td>\n",
       "      <td>55.0</td>\n",
       "      <td>0.0</td>\n",
       "      <td>0.0</td>\n",
       "      <td>0.0</td>\n",
       "      <td>...</td>\n",
       "      <td>1.6</td>\n",
       "      <td>64.3</td>\n",
       "      <td>1.5</td>\n",
       "      <td>2.3</td>\n",
       "      <td>3.8</td>\n",
       "      <td>0.3</td>\n",
       "      <td>0.3</td>\n",
       "      <td>0.4</td>\n",
       "      <td>0.9</td>\n",
       "      <td>0.0</td>\n",
       "    </tr>\n",
       "    <tr>\n",
       "      <th>1338</th>\n",
       "      <td>Litterial Green</td>\n",
       "      <td>52</td>\n",
       "      <td>12.0</td>\n",
       "      <td>4.5</td>\n",
       "      <td>1.7</td>\n",
       "      <td>3.8</td>\n",
       "      <td>43.9</td>\n",
       "      <td>0.0</td>\n",
       "      <td>0.2</td>\n",
       "      <td>10.0</td>\n",
       "      <td>...</td>\n",
       "      <td>1.8</td>\n",
       "      <td>62.5</td>\n",
       "      <td>0.2</td>\n",
       "      <td>0.4</td>\n",
       "      <td>0.7</td>\n",
       "      <td>2.2</td>\n",
       "      <td>0.4</td>\n",
       "      <td>0.1</td>\n",
       "      <td>0.8</td>\n",
       "      <td>1.0</td>\n",
       "    </tr>\n",
       "    <tr>\n",
       "      <th>1339</th>\n",
       "      <td>Jon Barry</td>\n",
       "      <td>47</td>\n",
       "      <td>11.7</td>\n",
       "      <td>4.4</td>\n",
       "      <td>1.6</td>\n",
       "      <td>4.4</td>\n",
       "      <td>36.9</td>\n",
       "      <td>0.4</td>\n",
       "      <td>1.3</td>\n",
       "      <td>33.3</td>\n",
       "      <td>...</td>\n",
       "      <td>1.0</td>\n",
       "      <td>67.3</td>\n",
       "      <td>0.2</td>\n",
       "      <td>0.7</td>\n",
       "      <td>0.9</td>\n",
       "      <td>1.4</td>\n",
       "      <td>0.7</td>\n",
       "      <td>0.1</td>\n",
       "      <td>0.9</td>\n",
       "      <td>1.0</td>\n",
       "    </tr>\n",
       "  </tbody>\n",
       "</table>\n",
       "<p>1340 rows × 21 columns</p>\n",
       "</div>"
      ],
      "text/plain": [
       "                 Name  GP   MIN  PTS  FGM  FGA   FG%  3P Made  3PA   3P%  ...  \\\n",
       "0      Brandon Ingram  36  27.4  7.4  2.6  7.6  34.7      0.5  2.1  25.0  ...   \n",
       "1     Andrew Harrison  35  26.9  7.2  2.0  6.7  29.6      0.7  2.8  23.5  ...   \n",
       "2      JaKarr Sampson  74  15.3  5.2  2.0  4.7  42.2      0.4  1.7  24.4  ...   \n",
       "3         Malik Sealy  58  11.6  5.7  2.3  5.5  42.6      0.1  0.5  22.6  ...   \n",
       "4         Matt Geiger  48  11.5  4.5  1.6  3.0  52.4      0.0  0.1   0.0  ...   \n",
       "...               ...  ..   ...  ...  ...  ...   ...      ...  ...   ...  ...   \n",
       "1335      Chris Smith  80  15.8  4.3  1.6  3.6  43.3      0.0  0.2  14.3  ...   \n",
       "1336      Brent Price  68  12.6  3.9  1.5  4.1  35.8      0.1  0.7  16.7  ...   \n",
       "1337     Marlon Maxey  43  12.1  5.4  2.2  3.9  55.0      0.0  0.0   0.0  ...   \n",
       "1338  Litterial Green  52  12.0  4.5  1.7  3.8  43.9      0.0  0.2  10.0  ...   \n",
       "1339        Jon Barry  47  11.7  4.4  1.6  4.4  36.9      0.4  1.3  33.3  ...   \n",
       "\n",
       "      FTA   FT%  OREB  DREB  REB  AST  STL  BLK  TOV  TARGET_5Yrs  \n",
       "0     2.3  69.9   0.7   3.4  4.1  1.9  0.4  0.4  1.3          0.0  \n",
       "1     3.4  76.5   0.5   2.0  2.4  3.7  1.1  0.5  1.6          0.0  \n",
       "2     1.3  67.0   0.5   1.7  2.2  1.0  0.5  0.3  1.0          0.0  \n",
       "3     1.3  68.9   1.0   0.9  1.9  0.8  0.6  0.1  1.0          1.0  \n",
       "4     1.9  67.4   1.0   1.5  2.5  0.3  0.3  0.4  0.8          1.0  \n",
       "...   ...   ...   ...   ...  ...  ...  ...  ...  ...          ...  \n",
       "1335  1.5  79.2   0.4   0.8  1.2  2.5  0.6  0.2  0.8          0.0  \n",
       "1336  1.0  79.4   0.4   1.1  1.5  2.3  0.8  0.0  1.3          1.0  \n",
       "1337  1.6  64.3   1.5   2.3  3.8  0.3  0.3  0.4  0.9          0.0  \n",
       "1338  1.8  62.5   0.2   0.4  0.7  2.2  0.4  0.1  0.8          1.0  \n",
       "1339  1.0  67.3   0.2   0.7  0.9  1.4  0.7  0.1  0.9          1.0  \n",
       "\n",
       "[1340 rows x 21 columns]"
      ]
     },
     "execution_count": 15,
     "metadata": {},
     "output_type": "execute_result"
    }
   ],
   "source": [
    "data"
   ]
  },
  {
   "cell_type": "markdown",
   "metadata": {},
   "source": [
    "#### Question 2.1: Donnez au moins une colonne qui doit être enlevé du jeu de données. Pourquoi? "
   ]
  },
  {
   "attachments": {},
   "cell_type": "markdown",
   "metadata": {},
   "source": [
    "La colonne Name. Le nom n'influe (probablement, certains psychologues pourraient ne pas être d'accord cela dit) pas sur les performances du joueur."
   ]
  },
  {
   "cell_type": "markdown",
   "metadata": {},
   "source": [
    "#### Exercice 2.1: Enlevez les variables du dataset qui vous semble inutile au problème."
   ]
  },
  {
   "cell_type": "code",
   "execution_count": 17,
   "metadata": {},
   "outputs": [],
   "source": [
    "data.drop(columns=['Name'], axis=1, inplace=True)\n",
    "data.info()"
   ]
  },
  {
   "cell_type": "markdown",
   "metadata": {},
   "source": [
    "#### Question 2.2: Ce dataset contient - il des données manquantes ou non exploitable?"
   ]
  },
  {
   "attachments": {},
   "cell_type": "markdown",
   "metadata": {},
   "source": [
    "missing = data.isnull().sum()\n",
    "missing"
   ]
  },
  {
   "attachments": {},
   "cell_type": "markdown",
   "metadata": {},
   "source": [
    "P              0\n",
    "MIN             0\n",
    "PTS             0\n",
    "FGM             0\n",
    "FGA             0\n",
    "FG%             0\n",
    "3P Made         0\n",
    "3PA             0\n",
    "3P%            11\n",
    "FTM             0\n",
    "FTA             0\n",
    "FT%             0\n",
    "OREB            0\n",
    "DREB            0\n",
    "REB             0\n",
    "AST             0\n",
    "STL             0\n",
    "BLK             0\n",
    "TOV             0\n",
    "TARGET_5Yrs     0\n",
    "dtype: int64"
   ]
  },
  {
   "attachments": {},
   "cell_type": "markdown",
   "metadata": {},
   "source": [
    "Il manque 11 données à la colonne 3P%"
   ]
  },
  {
   "cell_type": "markdown",
   "metadata": {},
   "source": [
    "#### Exercice 2.2: Si oui, donnez en la proportion par colonne."
   ]
  },
  {
   "cell_type": "code",
   "execution_count": 17,
   "metadata": {},
   "outputs": [],
   "source": [
    "((data.sum() - data.isnull().sum()) / data.sum()) * 100"
   ]
  },
  {
   "attachments": {},
   "cell_type": "markdown",
   "metadata": {},
   "source": [
    "Index(['Name', 'GP', 'MIN', 'PTS', 'FGM', 'FGA', 'FG%', '3P Made', '3PA',\n",
    "       '3P%', 'FTM', 'FTA', 'FT%', 'OREB', 'DREB', 'REB', 'AST', 'STL', 'BLK',\n",
    "       'TOV', 'TARGET_5Yrs'],\n",
    "      dtype='object')\n",
    "<class 'pandas.core.frame.DataFrame'>\n",
    "RangeIndex: 1340 entries, 0 to 1339\n",
    "Data columns (total 21 columns):\n",
    " #   Column       Non-Null Count  Dtype  \n",
    "---  ------       --------------  -----  \n",
    " 0   Name         1340 non-null   object \n",
    " 1   GP           1340 non-null   int64  \n",
    " 2   MIN          1340 non-null   float64\n",
    " 3   PTS          1340 non-null   float64\n",
    " 4   FGM          1340 non-null   float64\n",
    " 5   FGA          1340 non-null   float64\n",
    " 6   FG%          1340 non-null   float64\n",
    " 7   3P Made      1340 non-null   float64\n",
    " 8   3PA          1340 non-null   float64\n",
    " 9   3P%          1329 non-null   float64\n",
    " 10  FTM          1340 non-null   float64\n",
    " 11  FTA          1340 non-null   float64\n",
    " 12  FT%          1340 non-null   float64\n",
    " 13  OREB         1340 non-null   float64\n",
    " 14  DREB         1340 non-null   float64\n",
    " 15  REB          1340 non-null   float64\n",
    " 16  AST          1340 non-null   float64\n",
    " 17  STL          1340 non-null   float64\n",
    " 18  BLK          1340 non-null   float64\n",
    " 19  TOV          1340 non-null   float64\n",
    " 20  TARGET_5Yrs  1340 non-null   float64\n",
    "dtypes: float64(19), int64(1), object(1)\n",
    "memory usage: 220.0+ KB\n",
    "<class 'pandas.core.frame.DataFrame'>\n",
    "RangeIndex: 1340 entries, 0 to 1339\n",
    "Data columns (total 20 columns):\n",
    " #   Column       Non-Null Count  Dtype  \n",
    "---  ------       --------------  -----  \n",
    " 0   GP           1340 non-null   int64  \n",
    " 1   MIN          1340 non-null   float64\n",
    " 2   PTS          1340 non-null   float64\n",
    " 3   FGM          1340 non-null   float64\n",
    " 4   FGA          1340 non-null   float64\n",
    " 5   FG%          1340 non-null   float64\n",
    " 6   3P Made      1340 non-null   float64\n",
    " 7   3PA          1340 non-null   float64\n",
    " 8   3P%          1329 non-null   float64\n",
    " 9   FTM          1340 non-null   float64\n",
    " 10  FTA          1340 non-null   float64\n",
    " 11  FT%          1340 non-null   float64\n",
    " 12  OREB         1340 non-null   float64\n",
    " 13  DREB         1340 non-null   float64\n",
    " 14  REB          1340 non-null   float64\n",
    " 15  AST          1340 non-null   float64\n",
    " 16  STL          1340 non-null   float64\n",
    " 17  BLK          1340 non-null   float64\n",
    " 18  TOV          1340 non-null   float64\n",
    " 19  TARGET_5Yrs  1340 non-null   float64\n",
    "dtypes: float64(19), int64(1)\n",
    "memory usage: 209.5 KB\n",
    "GP              0\n",
    "MIN             0\n",
    "PTS             0\n",
    "FGM             0\n",
    "FGA             0\n",
    "FG%             0\n",
    "3P Made         0\n",
    "3PA             0\n",
    "3P%            11\n",
    "FTM             0\n",
    "FTA             0\n",
    "FT%             0\n",
    "OREB            0\n",
    "DREB            0\n",
    "REB             0\n",
    "AST             0\n",
    "STL             0\n",
    "BLK             0\n",
    "TOV             0\n",
    "TARGET_5Yrs     0\n",
    "dtype: int64\n",
    "GP             100.000000\n",
    "MIN            100.000000\n",
    "PTS            100.000000\n",
    "FGM            100.000000\n",
    "FGA            100.000000\n",
    "FG%            100.000000\n",
    "3P Made        100.000000\n",
    "3PA            100.000000\n",
    "3P%             99.957133\n",
    "FTM            100.000000\n",
    "FTA            100.000000\n",
    "FT%            100.000000\n",
    "OREB           100.000000\n",
    "DREB           100.000000\n",
    "REB            100.000000\n",
    "AST            100.000000\n",
    "STL            100.000000\n",
    "BLK            100.000000\n",
    "TOV            100.000000\n",
    "TARGET_5Yrs    100.000000\n",
    "dtype: float64"
   ]
  },
  {
   "attachments": {},
   "cell_type": "markdown",
   "metadata": {},
   "source": [
    "data.dropna(inplace=True)"
   ]
  },
  {
   "cell_type": "markdown",
   "metadata": {},
   "source": [
    "#### Exercice 2.3: Séparez les données en 2 échantillons train-test"
   ]
  },
  {
   "cell_type": "code",
   "execution_count": 17,
   "metadata": {},
   "outputs": [],
   "source": [
    "y = data['TARGET_5Yrs']\n",
    "X = data.drop(columns=['TARGET_5Yrs'], axis=1)\n",
    "\n",
    "# doing that to try a neural network later on\n",
    "scaler = StandardScaler()\n",
    "scaler.fit(X)\n",
    "X_scaled = scaler.transform(X)\n",
    "\n",
    "X_train, X_test, y_train, y_test = train_test_split(X_scaled, y, test_size = 0.25, random_state=42)"
   ]
  },
  {
   "cell_type": "markdown",
   "metadata": {},
   "source": [
    "#### Question 2.3: Pourquoi cette étape est-elle indispensable?"
   ]
  },
  {
   "attachments": {},
   "cell_type": "markdown",
   "metadata": {},
   "source": [
    "Entrainer le modèle sur l'entiéreté du dataset nous empêche de confirmer que celui ci a une généralisation acceptable sur une donnée nouvelle. Il nous faut donc, au minimum, un set de training ainsi qu'un set de test sur lequel sera validé ou non notre modèle. A noter qu'un set de validation est généralement utilisé en plus des 2 autres, afin d'éviter d'adapter notre algorithme en fonction du feedback obtenu sur le set de test, invalidant par le fait le charactère \"complétement nouveau\" du test set."
   ]
  },
  {
   "cell_type": "markdown",
   "metadata": {},
   "source": [
    "#### Exercice 2.4: Entrainez sur ces données un arbre de décision. Calculer une prédiction."
   ]
  },
  {
   "cell_type": "code",
   "execution_count": 17,
   "metadata": {},
   "outputs": [],
   "source": [
    "clf = DecisionTreeClassifier(random_state=42)\n",
    "clf.fit(X_train, y_train)\n",
    "predict_test_0 = clf.predict([X_test[0]])\n",
    "predict_test_0"
   ]
  },
  {
   "cell_type": "markdown",
   "metadata": {},
   "source": [
    "#### Exercice 2.5: Evaluez la qualité du modèle. "
   ]
  },
  {
   "cell_type": "code",
   "execution_count": null,
   "metadata": {},
   "outputs": [],
   "source": [
    "accuracy = clf.score(X_test, y_test)\n",
    "print(f'accuracy: {accuracy}')\n",
    "\n",
    "y_pred = clf.predict(X_test)\n",
    "print(metrics.classification_report(y_test, y_pred))"
   ]
  },
  {
   "attachments": {},
   "cell_type": "markdown",
   "metadata": {},
   "source": [
    "Index(['Name', 'GP', 'MIN', 'PTS', 'FGM', 'FGA', 'FG%', '3P Made', '3PA',\n",
    "       '3P%', 'FTM', 'FTA', 'FT%', 'OREB', 'DREB', 'REB', 'AST', 'STL', 'BLK',\n",
    "       'TOV', 'TARGET_5Yrs'],\n",
    "      dtype='object')\n",
    "<class 'pandas.core.frame.DataFrame'>\n",
    "RangeIndex: 1340 entries, 0 to 1339\n",
    "Data columns (total 21 columns):\n",
    " #   Column       Non-Null Count  Dtype  \n",
    "---  ------       --------------  -----  \n",
    " 0   Name         1340 non-null   object \n",
    " 1   GP           1340 non-null   int64  \n",
    " 2   MIN          1340 non-null   float64\n",
    " 3   PTS          1340 non-null   float64\n",
    " 4   FGM          1340 non-null   float64\n",
    " 5   FGA          1340 non-null   float64\n",
    " 6   FG%          1340 non-null   float64\n",
    " 7   3P Made      1340 non-null   float64\n",
    " 8   3PA          1340 non-null   float64\n",
    " 9   3P%          1329 non-null   float64\n",
    " 10  FTM          1340 non-null   float64\n",
    " 11  FTA          1340 non-null   float64\n",
    " 12  FT%          1340 non-null   float64\n",
    " 13  OREB         1340 non-null   float64\n",
    " 14  DREB         1340 non-null   float64\n",
    " 15  REB          1340 non-null   float64\n",
    " 16  AST          1340 non-null   float64\n",
    " 17  STL          1340 non-null   float64\n",
    " 18  BLK          1340 non-null   float64\n",
    " 19  TOV          1340 non-null   float64\n",
    " 20  TARGET_5Yrs  1340 non-null   float64\n",
    "dtypes: float64(19), int64(1), object(1)\n",
    "memory usage: 220.0+ KB\n",
    "<class 'pandas.core.frame.DataFrame'>\n",
    "RangeIndex: 1340 entries, 0 to 1339\n",
    "Data columns (total 20 columns):\n",
    " #   Column       Non-Null Count  Dtype  \n",
    "---  ------       --------------  -----  \n",
    " 0   GP           1340 non-null   int64  \n",
    " 1   MIN          1340 non-null   float64\n",
    " 2   PTS          1340 non-null   float64\n",
    " 3   FGM          1340 non-null   float64\n",
    " 4   FGA          1340 non-null   float64\n",
    " 5   FG%          1340 non-null   float64\n",
    " 6   3P Made      1340 non-null   float64\n",
    " 7   3PA          1340 non-null   float64\n",
    " 8   3P%          1329 non-null   float64\n",
    " 9   FTM          1340 non-null   float64\n",
    " 10  FTA          1340 non-null   float64\n",
    " 11  FT%          1340 non-null   float64\n",
    " 12  OREB         1340 non-null   float64\n",
    " 13  DREB         1340 non-null   float64\n",
    " 14  REB          1340 non-null   float64\n",
    " 15  AST          1340 non-null   float64\n",
    " 16  STL          1340 non-null   float64\n",
    " 17  BLK          1340 non-null   float64\n",
    " 18  TOV          1340 non-null   float64\n",
    " 19  TARGET_5Yrs  1340 non-null   float64\n",
    "dtypes: float64(19), int64(1)\n",
    "memory usage: 209.5 KB\n",
    "GP              0\n",
    "MIN             0\n",
    "PTS             0\n",
    "FGM             0\n",
    "FGA             0\n",
    "FG%             0\n",
    "3P Made         0\n",
    "3PA             0\n",
    "3P%            11\n",
    "FTM             0\n",
    "FTA             0\n",
    "FT%             0\n",
    "OREB            0\n",
    "DREB            0\n",
    "REB             0\n",
    "AST             0\n",
    "STL             0\n",
    "BLK             0\n",
    "TOV             0\n",
    "TARGET_5Yrs     0\n",
    "dtype: int64\n",
    "GP             100.000000\n",
    "MIN            100.000000\n",
    "PTS            100.000000\n",
    "FGM            100.000000\n",
    "FGA            100.000000\n",
    "FG%            100.000000\n",
    "3P Made        100.000000\n",
    "3PA            100.000000\n",
    "3P%             99.957133\n",
    "FTM            100.000000\n",
    "FTA            100.000000\n",
    "FT%            100.000000\n",
    "OREB           100.000000\n",
    "DREB           100.000000\n",
    "REB            100.000000\n",
    "AST            100.000000\n",
    "STL            100.000000\n",
    "BLK            100.000000\n",
    "TOV            100.000000\n",
    "TARGET_5Yrs    100.000000\n",
    "dtype: float64\n",
    "array([1.])\n",
    "accuracy: 0.6246246246246246\n",
    "              precision    recall  f1-score   support\n",
    "\n",
    "         0.0       0.48      0.58      0.52       118\n",
    "         1.0       0.74      0.65      0.69       215\n",
    "\n",
    "    accuracy                           0.62       333\n",
    "   macro avg       0.61      0.61      0.61       333\n",
    "weighted avg       0.64      0.62      0.63       333"
   ]
  },
  {
   "cell_type": "markdown",
   "metadata": {},
   "source": [
    "#### Question 2.4: Quelle métrique utilisez vous? Pourquoi? "
   ]
  },
  {
   "attachments": {},
   "cell_type": "markdown",
   "metadata": {},
   "source": [
    "L'accuracy, la précision, le recall, le f1-score  "
   ]
  },
  {
   "cell_type": "markdown",
   "metadata": {},
   "source": [
    "#### Question 2.5: Le modèle construit est-il de qualité satisfaisante? Expliquez."
   ]
  },
  {
   "attachments": {},
   "cell_type": "markdown",
   "metadata": {},
   "source": [
    "De manière générale, le modèle est à peine meilleure qu'une décision aléatoire sur les target négatives, et à peine meilleuresur les target positive. Ce modèle est donc non-satisfaisant\n",
    " "
   ]
  },
  {
   "cell_type": "markdown",
   "metadata": {},
   "source": [
    "#### Exercice 2.6: Produisez une visualisation graphique de l'arbre construit"
   ]
  },
  {
   "cell_type": "code",
   "execution_count": null,
   "metadata": {},
   "outputs": [],
   "source": [
    "plt.figure(figsize=(17,11))\n",
    "plot_tree(clf, feature_names = list(X.columns), fontsize=10)\n",
    "plt.show()"
   ]
  },
  {
   "attachments": {},
   "cell_type": "markdown",
   "metadata": {},
   "source": []
  },
  {
   "cell_type": "markdown",
   "metadata": {},
   "source": [
    "#### Question 2.6: Donnez un exemple de lecture d'un tel arbre."
   ]
  },
  {
   "attachments": {},
   "cell_type": "markdown",
   "metadata": {},
   "source": [
    "Première ligne -0.052: si FG% <= -0.737: si DREB<= 0.241 ... (les données ont été standardisée via un StandardScaler)"
   ]
  },
  {
   "cell_type": "markdown",
   "metadata": {},
   "source": [
    "#### Question 2.7: Comment peut - on améliorer la qualité du modèle? Donnez au moins 3 méthodes:"
   ]
  },
  {
   "attachments": {},
   "cell_type": "markdown",
   "metadata": {},
   "source": [
    "- optimiser les hyperparamètres (Changer le critérion de base \"gini\" pour \"entropy\")\n",
    "- \"Pruner\" l'arbre\n",
    "- Utiliser des données et des caractéristiques significatives\n",
    "- Utiliser une randomForest "
   ]
  },
  {
   "cell_type": "markdown",
   "metadata": {},
   "source": [
    "#### Exercice 2.7: Essayer d'appliquer une de ces méthodes"
   ]
  },
  {
   "cell_type": "code",
   "execution_count": null,
   "metadata": {},
   "outputs": [],
   "source": [
    "# using random forest\n",
    "clf_opti = RandomForestClassifier(random_state=42)\n",
    "param_grid = {'n_estimators': [100, 200, 300],\n",
    "              'max_depth': [10, 20, 30],\n",
    "              'min_samples_leaf': [1, 2, 3]}\n",
    "\n",
    "grid_search = GridSearchCV(clf_opti, param_grid, cv=5, scoring='accuracy')\n",
    "grid_search.fit(X_train, y_train)\n",
    "\n",
    "print(\"Best parameters:\", grid_search.best_params_)\n",
    "print(\"Best score:\", grid_search.best_score_)\n",
    "\n",
    "best_clf = grid_search.best_estimator_\n",
    "best_clf.fit(X_train, y_train)\n",
    "\n",
    "estimate_b = best_clf.predict(X_test)\n",
    "accuracy = best_clf.score(X_test, y_test)\n",
    "print(f'accuracy: {accuracy}')\n",
    "\n",
    "y_pred_opti = best_clf.predict(X_test)\n",
    "print(metrics.classification_report(y_test, y_pred_opti))\n"
   ]
  },
  {
   "attachments": {},
   "cell_type": "markdown",
   "metadata": {},
   "source": [
    "Best parameters: {'max_depth': 30, 'min_samples_leaf': 3, 'n_estimators': 100}\n",
    "Best score: 0.6787236180904522\n",
    "accuracy: 0.7327327327327328\n",
    "              precision    recall  f1-score   support\n",
    "\n",
    "         0.0       0.63      0.60      0.61       118\n",
    "         1.0       0.79      0.80      0.80       215\n",
    "\n",
    "    accuracy                           0.73       333\n",
    "   macro avg       0.71      0.70      0.71       333\n",
    "weighted avg       0.73      0.73      0.73       333"
   ]
  },
  {
   "cell_type": "markdown",
   "metadata": {},
   "source": [
    "#### Question 2.8: Concluez"
   ]
  },
  {
   "attachments": {},
   "cell_type": "markdown",
   "metadata": {},
   "source": [
    "Répclf = MLPClassifier(hidden_layer_sizes=(4,), max_iter=1000, random_state=42)\n",
    "\n",
    "clf.fit(X_train, y_train)\n",
    "\n",
    "y_pred = clf.predict(X_test)\n",
    "\n",
    "accuracy = clf.score(X_test, y_test)\n",
    "print(\"Accuracy:\", accuracy)\n",
    "y_pred = clf.predict(X_test)\n",
    "print(metrics.classification_report(y_test, y_pred))onse"
   ]
  },
  {
   "attachments": {},
   "cell_type": "markdown",
   "metadata": {},
   "source": [
    "Accuracy: 0.7207207207207207\n",
    "              precision    recall  f1-score   support\n",
    "\n",
    "         0.0       0.61      0.60      0.60       118\n",
    "         1.0       0.78      0.79      0.78       215\n",
    "\n",
    "    accuracy                           0.72       333\n",
    "   macro avg       0.69      0.69      0.69       333\n",
    "weighted avg       0.72      0.72      0.72       333"
   ]
  },
  {
   "attachments": {},
   "cell_type": "markdown",
   "metadata": {},
   "source": [
    "En conclusion, un modèle de neural network fait aussi le job."
   ]
  }
 ],
 "metadata": {
  "kernelspec": {
   "display_name": "Python 3",
   "language": "python",
   "name": "python3"
  },
  "language_info": {
   "codemirror_mode": {
    "name": "ipython",
    "version": 3
   },
   "file_extension": ".py",
   "mimetype": "text/x-python",
   "name": "python",
   "nbconvert_exporter": "python",
   "pygments_lexer": "ipython3",
   "version": "3.8.5"
  }
 },
 "nbformat": 4,
 "nbformat_minor": 4
}
